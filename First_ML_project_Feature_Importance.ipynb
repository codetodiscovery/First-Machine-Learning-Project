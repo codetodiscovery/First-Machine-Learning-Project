{
  "cells": [
    {
      "cell_type": "markdown",
      "source": [
        "## **Importing Libraries**"
      ],
      "metadata": {
        "id": "UjN8XXssi4NU"
      }
    },
    {
      "cell_type": "code",
      "source": [
        "import pandas as pd\n",
        "import numpy as np\n",
        "import seaborn as sns\n",
        "import matplotlib.pyplot as plt\n",
        "import warnings\n",
        "warnings.filterwarnings(\"ignore\")\n",
        "sns.set(style='whitegrid')"
      ],
      "metadata": {
        "id": "yYIbNmUbaizv"
      },
      "execution_count": null,
      "outputs": []
    },
    {
      "cell_type": "markdown",
      "source": [
        "## **Building Machine Learning Model**"
      ],
      "metadata": {
        "id": "2UAwTOqCapqR"
      }
    },
    {
      "cell_type": "code",
      "source": [
        "from sklearn.preprocessing import StandardScaler\n",
        "from sklearn.model_selection import train_test_split, cross_val_score\n",
        "import statsmodels.api as sm\n",
        "from sklearn.linear_model import LinearRegression\n",
        "from sklearn.metrics import r2_score, mean_absolute_error\n",
        "from sklearn.ensemble import RandomForestRegressor"
      ],
      "metadata": {
        "id": "20R27GyTa578"
      },
      "execution_count": null,
      "outputs": []
    },
    {
      "cell_type": "code",
      "source": [
        "df_final = pd.read_csv('delaney_mordred_truncated.csv')"
      ],
      "metadata": {
        "id": "p-KVfV0iicii"
      },
      "execution_count": null,
      "outputs": []
    },
    {
      "cell_type": "code",
      "source": [
        "df_final.head()"
      ],
      "metadata": {
        "id": "umvXWqJOavhJ"
      },
      "execution_count": null,
      "outputs": []
    },
    {
      "cell_type": "code",
      "source": [
        "y = df_final['measured log(solubility:mol/L)']"
      ],
      "metadata": {
        "id": "dOg-0DfnqIpZ"
      },
      "execution_count": null,
      "outputs": []
    },
    {
      "cell_type": "markdown",
      "source": [
        "**Scaling the Datset**"
      ],
      "metadata": {
        "id": "ky9JCavM8--X"
      }
    },
    {
      "cell_type": "code",
      "source": [
        "scaled_DF = pd.DataFrame(StandardScaler().fit_transform(df_final.iloc[:,3:]), columns=([df_final.iloc[:,3:].columns]))"
      ],
      "metadata": {
        "id": "_2lFUURUJJ0n"
      },
      "execution_count": null,
      "outputs": []
    },
    {
      "cell_type": "code",
      "source": [
        "scaled_DF"
      ],
      "metadata": {
        "id": "hx53SgrtOmP4"
      },
      "execution_count": null,
      "outputs": []
    },
    {
      "cell_type": "markdown",
      "source": [
        "**Train-Test Split**"
      ],
      "metadata": {
        "id": "yKoNfbX_87j3"
      }
    },
    {
      "cell_type": "code",
      "source": [
        "X_train, X_test, y_train, y_test = train_test_split(scaled_DF, y, test_size=0.20, random_state=45)"
      ],
      "metadata": {
        "id": "1cazQVyBby-z"
      },
      "execution_count": null,
      "outputs": []
    },
    {
      "cell_type": "code",
      "source": [
        "lr = LinearRegression()\n",
        "lr.fit(X_train, y_train)"
      ],
      "metadata": {
        "id": "yXgNSE-68zu5"
      },
      "execution_count": null,
      "outputs": []
    },
    {
      "cell_type": "code",
      "source": [
        "print(f'The r2 score for train set is : {lr.score(X_train, y_train)}')\n",
        "print(f'The r2 score for test set is : {lr.score(X_test, y_test)}')"
      ],
      "metadata": {
        "id": "FEaGobaW9DzZ"
      },
      "execution_count": null,
      "outputs": []
    },
    {
      "cell_type": "code",
      "source": [
        "rf = RandomForestRegressor()\n",
        "rf.fit(X_train, y_train)"
      ],
      "metadata": {
        "id": "sRe3sG43gz1q"
      },
      "execution_count": null,
      "outputs": []
    },
    {
      "cell_type": "code",
      "source": [
        "print(f'The r2 score for train set is : {rf.score(X_train, y_train)}')\n",
        "print(f'The r2 score for test set is : {rf.score(X_test, y_test)}')"
      ],
      "metadata": {
        "id": "xUAqtRU-81H3"
      },
      "execution_count": null,
      "outputs": []
    },
    {
      "cell_type": "markdown",
      "source": [
        "**Scikit Learn's Feature Importance Algorithm**\n",
        "\n",
        "\n",
        "\n",
        "> In scikit-learn, the feature importance in a Random Forest regression model can be obtained through the feature_importances_ attribute. This attribute provides a relative importance score for each feature in the dataset based on how much each feature contributes to reducing the impurity (e.g., mean squared error) in the construction of the decision trees within the Random Forest.\n",
        "\n"
      ],
      "metadata": {
        "id": "1ZcNnoK7xVgo"
      }
    },
    {
      "cell_type": "code",
      "source": [
        "# get importance\n",
        "importance = rf.feature_importances_\n",
        "# summarize feature importance\n",
        "dicts = {\n",
        "    'Features':[x for x in df_final.iloc[:,3:].columns],\n",
        "    'Importance':importance\n",
        "    }\n",
        "DF_imp = pd.DataFrame(dicts)\n",
        "DF_imp = DF_imp.sort_values('Importance',ascending=False)\n",
        "DF_imp.to_excel('imp.xlsx', index=None)\n",
        "\n",
        "# plot feature importance\n",
        "top_desc_fi = DF_imp[:6]\n",
        "plt.subplots(figsize=(6,6))\n",
        "sns.barplot(data=top_desc_fi, x = 'Features', y='Importance', palette = 'Set2')\n",
        "# plt.bar('Feature','Importance',data = DF_imp.iloc[:7,:])\n",
        "plt.xticks(rotation = 90)\n",
        "# plt.show()\n",
        "# plt.savefig('fi.png', dpi=300, bbox_inches='tight')"
      ],
      "metadata": {
        "id": "PJ_uaPpB8t6A"
      },
      "execution_count": null,
      "outputs": []
    },
    {
      "cell_type": "markdown",
      "source": [
        "**Scikit Learn's Permutation Importance**\n",
        "\n",
        "\n",
        "> Permutation importance works by permuting the values of a single feature and measuring the change in the model's performance (e.g., accuracy or mean squared error). The idea is that important features, when permuted, will cause a significant drop in model performance. Scikit-learn provides the permutation_importance function to calculate and extract permutation importance.\n",
        "\n"
      ],
      "metadata": {
        "id": "5lHMGqvuyQac"
      }
    },
    {
      "cell_type": "code",
      "source": [
        "from sklearn.inspection import permutation_importance"
      ],
      "metadata": {
        "id": "znE5EmvUy6Cd"
      },
      "execution_count": null,
      "outputs": []
    },
    {
      "cell_type": "code",
      "source": [
        "result = permutation_importance(\n",
        "    rf, X_test, y_test, random_state=42)\n",
        "\n",
        "dicts = {\n",
        "    'Features':[x for x in df_final.iloc[:,3:].columns],\n",
        "    'Importance':result.importances_mean\n",
        "}\n",
        "DF_pi = pd.DataFrame(dicts)\n",
        "DF_pi = DF_pi.sort_values('Importance',ascending=False) #please note in the video there was a mistake\n",
        "# In the line just above this comment, there was a typo which has been corrected in here.\n",
        "# In the video it was DF_imp.sort_values('Importance', ascending=False) which was incorrect.\n",
        "DF_pi.to_excel('imp.xlsx', index=None)\n",
        "\n",
        "# plot feature importance\n",
        "top_desc_pi = DF_pi[:6]\n",
        "sns.barplot(data=top_desc_pi, x = 'Features', y='Importance', palette = 'Set2')\n",
        "# plt.bar('Feature','Importance',data = DF_imp.iloc[:7,:])\n",
        "plt.xticks(rotation = 90)\n",
        "plt.show()"
      ],
      "metadata": {
        "id": "V8phObcUylgU"
      },
      "execution_count": null,
      "outputs": []
    },
    {
      "cell_type": "code",
      "source": [
        "DF_pi.head()"
      ],
      "metadata": {
        "id": "tbo6Q0zob9lQ"
      },
      "execution_count": null,
      "outputs": []
    },
    {
      "cell_type": "markdown",
      "source": [
        "**SHAP Feature Importance**\n",
        "\n",
        "\n",
        "> SHAP feature importance is based on Shapley values from cooperative game theory, and it is used to explain the output of a model by assigning a value to each feature indicating its contribution to the model's prediction for a particular instance. SHAP values consider all possible combinations of features and calculate the average contribution of each feature to the prediction.\n",
        "\n"
      ],
      "metadata": {
        "id": "2aCKxgDFyoqE"
      }
    },
    {
      "cell_type": "code",
      "source": [
        "%%capture\n",
        "!pip install shap\n",
        "import shap"
      ],
      "metadata": {
        "id": "8U9Tfvk1ys1M"
      },
      "execution_count": null,
      "outputs": []
    },
    {
      "cell_type": "code",
      "source": [
        "explainer = shap.TreeExplainer(rf)\n",
        "shap_values = explainer.shap_values(X_test)"
      ],
      "metadata": {
        "id": "uZ8recawy-0b"
      },
      "execution_count": null,
      "outputs": []
    },
    {
      "cell_type": "code",
      "source": [
        "shap.summary_plot(shap_values, X_test)"
      ],
      "metadata": {
        "id": "D-A7ILS0y_pK"
      },
      "execution_count": null,
      "outputs": []
    },
    {
      "cell_type": "markdown",
      "source": [
        "## **Model Evalualtion with Reduced Features**"
      ],
      "metadata": {
        "id": "3X18qUGUyBFN"
      }
    },
    {
      "cell_type": "code",
      "source": [
        "top_desc_fi['Features'][:5]"
      ],
      "metadata": {
        "id": "KKcmuxvBIkXg"
      },
      "execution_count": null,
      "outputs": []
    },
    {
      "cell_type": "code",
      "source": [
        "scaled_DF_5 = scaled_DF[top_desc_fi['Features'][:5]]"
      ],
      "metadata": {
        "id": "HHZPNJUgIfQA"
      },
      "execution_count": null,
      "outputs": []
    },
    {
      "cell_type": "code",
      "source": [
        "scaled_DF_5.head()"
      ],
      "metadata": {
        "id": "H0PPblq5Ixyj"
      },
      "execution_count": null,
      "outputs": []
    },
    {
      "cell_type": "code",
      "source": [
        "y"
      ],
      "metadata": {
        "id": "NcLQKkGMI1Rp"
      },
      "execution_count": null,
      "outputs": []
    },
    {
      "cell_type": "code",
      "source": [
        "X_train, X_test, y_train, y_test = train_test_split(scaled_DF_5, y, test_size=0.20, random_state=45)"
      ],
      "metadata": {
        "id": "qgQAFkswI7yo"
      },
      "execution_count": null,
      "outputs": []
    },
    {
      "cell_type": "code",
      "source": [
        "lr = LinearRegression()\n",
        "lr.fit(X_train, y_train)"
      ],
      "metadata": {
        "id": "DHNe-4m9zN5y"
      },
      "execution_count": null,
      "outputs": []
    },
    {
      "cell_type": "code",
      "source": [
        "print(f'The r2 score for train set is : {lr.score(X_train, y_train)}')\n",
        "print(f'The r2 score for test set is : {lr.score(X_test, y_test)}')"
      ],
      "metadata": {
        "id": "FEVzul0g3M0_"
      },
      "execution_count": null,
      "outputs": []
    },
    {
      "cell_type": "code",
      "source": [
        "rf = RandomForestRegressor()\n",
        "rf.fit(X_train, y_train)"
      ],
      "metadata": {
        "id": "B_sh2tJfI3Dg"
      },
      "execution_count": null,
      "outputs": []
    },
    {
      "cell_type": "code",
      "source": [
        "print(f'The r2 score for train set is : {rf.score(X_train, y_train)}')\n",
        "print(f'The r2 score for test set is : {rf.score(X_test, y_test)}')"
      ],
      "metadata": {
        "id": "MDECht-AJGbR"
      },
      "execution_count": null,
      "outputs": []
    },
    {
      "cell_type": "code",
      "source": [],
      "metadata": {
        "id": "2Ec9thgANp2V"
      },
      "execution_count": null,
      "outputs": []
    }
  ],
  "metadata": {
    "colab": {
      "provenance": []
    },
    "kernelspec": {
      "display_name": "Python 3 (ipykernel)",
      "language": "python",
      "name": "python3"
    },
    "language_info": {
      "codemirror_mode": {
        "name": "ipython",
        "version": 3
      },
      "file_extension": ".py",
      "mimetype": "text/x-python",
      "name": "python",
      "nbconvert_exporter": "python",
      "pygments_lexer": "ipython3",
      "version": "3.9.12"
    },
    "gpuClass": "standard"
  },
  "nbformat": 4,
  "nbformat_minor": 0
}