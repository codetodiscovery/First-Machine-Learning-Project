{
  "cells": [
    {
      "cell_type": "markdown",
      "source": [
        "## **Importing Libraries**"
      ],
      "metadata": {
        "id": "UjN8XXssi4NU"
      }
    },
    {
      "cell_type": "code",
      "source": [
        "%%capture\n",
        "!pip install mordred\n",
        "!pip install rdkit\n"
      ],
      "metadata": {
        "id": "DEME31NT9rIY"
      },
      "execution_count": null,
      "outputs": []
    },
    {
      "cell_type": "code",
      "execution_count": null,
      "metadata": {
        "id": "SAwVl7Dc2u48"
      },
      "outputs": [],
      "source": [
        "# Importing Libraries\n",
        "import rdkit\n",
        "from rdkit import Chem\n",
        "from rdkit.Chem import Draw, PandasTools, AllChem\n",
        "\n",
        "import mordred\n",
        "from mordred import Calculator, descriptors\n"
      ]
    },
    {
      "cell_type": "code",
      "source": [
        "import pandas as pd\n",
        "import numpy as np\n",
        "import seaborn as sns\n",
        "import matplotlib.pyplot as plt\n",
        "import warnings\n",
        "\n",
        "pd.set_option('display.max_columns', 2000)\n",
        "warnings.filterwarnings(\"ignore\")"
      ],
      "metadata": {
        "id": "yYIbNmUbaizv"
      },
      "execution_count": null,
      "outputs": []
    },
    {
      "cell_type": "code",
      "execution_count": null,
      "metadata": {
        "id": "axkjJPmA20AE"
      },
      "outputs": [],
      "source": [
        "sns.set(style='whitegrid')"
      ]
    },
    {
      "cell_type": "markdown",
      "source": [
        "## **Generating Descriptors from SMILES - Mordred**\n",
        "\n",
        "Youtube videos for generating molecular descriptors from SMILES\n",
        "\n",
        "> https://youtu.be/EeOCGvy2pmQ\n",
        "\n",
        "\n",
        "> https://youtu.be/Sgh-qJVYI5Q\n",
        "\n",
        "\n",
        "\n"
      ],
      "metadata": {
        "id": "SttWTYyj9zqg"
      }
    },
    {
      "cell_type": "code",
      "source": [
        "data = pd.read_csv('delaney.csv')\n",
        "data.head()"
      ],
      "metadata": {
        "id": "Hs78-bNoBQtt"
      },
      "execution_count": null,
      "outputs": []
    },
    {
      "cell_type": "code",
      "source": [
        "mol_list = []\n",
        "\n",
        "for smile in data['SMILES']:\n",
        "  mol = Chem.MolFromSmiles(smile)\n",
        "  mol = Chem.AddHs(mol)\n",
        "  AllChem.EmbedMolecule(mol)\n",
        "  mol_list.append(mol)\n",
        "\n",
        "data = pd.concat([data, pd.DataFrame(mol_list, columns = (['Mol']))], axis=1)"
      ],
      "metadata": {
        "id": "ZaPRSwQnBdi7"
      },
      "execution_count": null,
      "outputs": []
    },
    {
      "cell_type": "code",
      "source": [
        "data.head()"
      ],
      "metadata": {
        "id": "d5oIi__sCHSB"
      },
      "execution_count": null,
      "outputs": []
    },
    {
      "cell_type": "code",
      "source": [
        "mol = data['Mol'][54]"
      ],
      "metadata": {
        "id": "xrt9KAtlP8pf"
      },
      "execution_count": null,
      "outputs": []
    },
    {
      "cell_type": "code",
      "source": [
        "img = Draw.MolToImage(mol)\n",
        "img"
      ],
      "metadata": {
        "id": "W4FdWihVCGgp"
      },
      "execution_count": null,
      "outputs": []
    },
    {
      "cell_type": "code",
      "source": [
        "# Creating a descriptor calculator with all descriptors\n",
        "calc = Calculator(descriptors, ignore_3D=False)\n",
        "\n",
        "all_desc = calc.pandas(data['Mol'])"
      ],
      "metadata": {
        "id": "esfGNo_BBnlq"
      },
      "execution_count": null,
      "outputs": []
    },
    {
      "cell_type": "code",
      "source": [
        "all_desc.head()"
      ],
      "metadata": {
        "id": "08LNU57UBz_K"
      },
      "execution_count": null,
      "outputs": []
    },
    {
      "cell_type": "code",
      "source": [
        "all_desc.shape"
      ],
      "metadata": {
        "id": "JQ6Y-YwNR6zG"
      },
      "execution_count": null,
      "outputs": []
    },
    {
      "cell_type": "code",
      "source": [
        "data.head()"
      ],
      "metadata": {
        "id": "fOFC2SuwSB7-"
      },
      "execution_count": null,
      "outputs": []
    },
    {
      "cell_type": "code",
      "source": [
        "df_index = data[['Compound ID', 'SMILES', 'measured log(solubility:mol/L)']]"
      ],
      "metadata": {
        "id": "kHGlcmcLB6yx"
      },
      "execution_count": null,
      "outputs": []
    },
    {
      "cell_type": "code",
      "source": [
        "df = pd.concat([df_index, all_desc], axis=1)\n",
        "df.head()"
      ],
      "metadata": {
        "id": "JKNYpq8MB-XU"
      },
      "execution_count": null,
      "outputs": []
    },
    {
      "cell_type": "code",
      "source": [
        "df.to_excel('delaney_mordred.xlsx', index=None)"
      ],
      "metadata": {
        "id": "RZsA9zpUCDVJ"
      },
      "execution_count": null,
      "outputs": []
    },
    {
      "cell_type": "markdown",
      "source": [
        "## **Loading the Dataset**"
      ],
      "metadata": {
        "id": "sKZiQxIEi-hv"
      }
    },
    {
      "cell_type": "code",
      "source": [
        "df = pd.read_excel('delaney_mordred.xlsx')"
      ],
      "metadata": {
        "id": "UnD8sqXTQJqC"
      },
      "execution_count": null,
      "outputs": []
    },
    {
      "cell_type": "markdown",
      "source": [
        "## **Data Preprocessing**\n",
        "\n",
        "\n",
        "\n",
        "1.   Removing missing values/non-numerical values\n",
        "2.   Remove constant values\n",
        "3.   Remove highly correlated values\n",
        "\n",
        "\n",
        "\n"
      ],
      "metadata": {
        "id": "NyBoxtHXjZMi"
      }
    },
    {
      "cell_type": "code",
      "source": [
        "df.head()"
      ],
      "metadata": {
        "id": "jsOJ_HzjTF4D"
      },
      "execution_count": null,
      "outputs": []
    },
    {
      "cell_type": "code",
      "source": [
        "data = df.iloc[:,3:]"
      ],
      "metadata": {
        "id": "e_ZMaUuelF1M"
      },
      "execution_count": null,
      "outputs": []
    },
    {
      "cell_type": "code",
      "source": [
        "data.head()"
      ],
      "metadata": {
        "id": "KxxNjgypTVRA"
      },
      "execution_count": null,
      "outputs": []
    },
    {
      "cell_type": "code",
      "source": [
        "data.isnull().sum().sum()"
      ],
      "metadata": {
        "id": "OEC4KE24jHpL"
      },
      "execution_count": null,
      "outputs": []
    },
    {
      "cell_type": "code",
      "source": [
        "column_num = []\n",
        "column_bool = []\n",
        "for column in data.columns:\n",
        "  column_type = data[column].dtype\n",
        "  if column_type == 'object':\n",
        "      pass\n",
        "  elif column_type =='bool':\n",
        "      column_bool.append(column)\n",
        "  else:\n",
        "      column_num.append(column)"
      ],
      "metadata": {
        "id": "5KH5Dv-PXX5E"
      },
      "execution_count": null,
      "outputs": []
    },
    {
      "cell_type": "code",
      "source": [
        "len(column_num)"
      ],
      "metadata": {
        "id": "UUCYwE7aUMoW"
      },
      "execution_count": null,
      "outputs": []
    },
    {
      "cell_type": "code",
      "source": [
        "column_bool"
      ],
      "metadata": {
        "id": "-fD3pL_xUT-H"
      },
      "execution_count": null,
      "outputs": []
    },
    {
      "cell_type": "code",
      "source": [
        "data['GhoseFilter'].unique()"
      ],
      "metadata": {
        "id": "kPCvLEhlUh7k"
      },
      "execution_count": null,
      "outputs": []
    },
    {
      "cell_type": "code",
      "source": [
        "gf = data['GhoseFilter'].astype(int)\n",
        "gf.value_counts().plot(kind='bar')\n"
      ],
      "metadata": {
        "id": "lQ12OPbczDPz"
      },
      "execution_count": null,
      "outputs": []
    },
    {
      "cell_type": "code",
      "source": [
        "data = data[column_num + column_bool]"
      ],
      "metadata": {
        "id": "6-vQRNPIWueX"
      },
      "execution_count": null,
      "outputs": []
    },
    {
      "cell_type": "code",
      "source": [
        "data.shape"
      ],
      "metadata": {
        "id": "au6K96uxeYsu"
      },
      "execution_count": null,
      "outputs": []
    },
    {
      "cell_type": "code",
      "source": [
        "def remove_constant_values(data):\n",
        "    return [e for e in data.columns if data[e].nunique() == 1]\n",
        "\n",
        "drop_col = remove_constant_values(data)\n",
        "#drop_col\n",
        "\n",
        "new_df_columns = [e for e in data.columns if e not in drop_col]\n",
        "new_df = data[new_df_columns]\n",
        "new_df"
      ],
      "metadata": {
        "id": "_n0ONqaHd1jA"
      },
      "execution_count": null,
      "outputs": []
    },
    {
      "cell_type": "code",
      "source": [
        "len(drop_col)"
      ],
      "metadata": {
        "id": "KavWDIUR1pT7"
      },
      "execution_count": null,
      "outputs": []
    },
    {
      "cell_type": "code",
      "execution_count": null,
      "metadata": {
        "id": "ujXS1gGh3791"
      },
      "outputs": [],
      "source": [
        "\n",
        "# To calclulate  Correlation and remove highly  correlated columns\n",
        "def correlation(dataset, threshold):\n",
        "    col_corr = set()  # Set of all the names of correlated columns\n",
        "    corr_matrix = dataset.corr()\n",
        "    for i in range(len(corr_matrix.columns)):\n",
        "        for j in range(i):\n",
        "            if abs(corr_matrix.iloc[i, j]) > threshold: # we are interested in absolute coeff value\n",
        "                colname = corr_matrix.columns[i]  # getting the name of column\n",
        "                col_corr.add(colname)\n",
        "    return col_corr"
      ]
    },
    {
      "cell_type": "code",
      "source": [
        "# Dropping highly correlated Features\n",
        "corr_features = correlation(new_df, 0.80)\n",
        "print(\"No. of features to drop : \",len(set(corr_features)))\n",
        "\n",
        "new_df.drop(corr_features,axis=1,inplace=True)"
      ],
      "metadata": {
        "id": "Z0qEXHW3iVMA"
      },
      "execution_count": null,
      "outputs": []
    },
    {
      "cell_type": "code",
      "source": [
        "new_df.shape"
      ],
      "metadata": {
        "id": "Z5C3U5KlTjsU"
      },
      "execution_count": null,
      "outputs": []
    },
    {
      "cell_type": "code",
      "source": [
        "new_df.head()"
      ],
      "metadata": {
        "id": "3tIXmGQs2hdf"
      },
      "execution_count": null,
      "outputs": []
    },
    {
      "cell_type": "code",
      "source": [
        "new_df['Lipinski'] = df[\"Lipinski\"].astype(int)\n",
        "new_df['GhoseFilter'] = df[\"GhoseFilter\"].astype(int)"
      ],
      "metadata": {
        "id": "pUmgJO1Q2lv_"
      },
      "execution_count": null,
      "outputs": []
    },
    {
      "cell_type": "code",
      "source": [
        "new_df.head()"
      ],
      "metadata": {
        "id": "KQqchrQ13OOe"
      },
      "execution_count": null,
      "outputs": []
    },
    {
      "cell_type": "code",
      "source": [
        "df_final = pd.concat([df.iloc[:, :3], new_df], axis=1)\n",
        "df_final.head()"
      ],
      "metadata": {
        "id": "ITHJ9-qeFNrF"
      },
      "execution_count": null,
      "outputs": []
    },
    {
      "cell_type": "code",
      "source": [
        "df_final.shape"
      ],
      "metadata": {
        "id": "siS6lPio3m74"
      },
      "execution_count": null,
      "outputs": []
    },
    {
      "cell_type": "code",
      "source": [
        "df_final.to_csv('delaney_mordred_truncated.csv', index=None)"
      ],
      "metadata": {
        "id": "1kbDsukIfSxw"
      },
      "execution_count": null,
      "outputs": []
    },
    {
      "cell_type": "markdown",
      "source": [
        "## **Data Analysis**"
      ],
      "metadata": {
        "id": "DBHR1YgummnP"
      }
    },
    {
      "cell_type": "code",
      "source": [
        "df_final['measured log(solubility:mol/L)'].describe()"
      ],
      "metadata": {
        "id": "jULhuRmz4AEt"
      },
      "execution_count": null,
      "outputs": []
    },
    {
      "cell_type": "code",
      "source": [
        "plt.hist(df_final['measured log(solubility:mol/L)'])"
      ],
      "metadata": {
        "id": "nDdVU-Wb3qDz"
      },
      "execution_count": null,
      "outputs": []
    },
    {
      "cell_type": "code",
      "source": [
        "df_final = df_final.iloc[:, 2:]"
      ],
      "metadata": {
        "id": "4hxLpGGV9K--"
      },
      "execution_count": null,
      "outputs": []
    },
    {
      "cell_type": "code",
      "source": [
        "corr = df_final.corr()\n",
        "corr"
      ],
      "metadata": {
        "id": "8a9PiRgey5zn"
      },
      "execution_count": null,
      "outputs": []
    },
    {
      "cell_type": "code",
      "source": [
        "corr_sorted = abs(corr[['measured log(solubility:mol/L)']]).sort_values(by ='measured log(solubility:mol/L)', ascending=False)\n",
        "corr_sorted = corr_sorted.iloc[1:5, :]\n",
        "corr_sorted.rename(columns={'measured log(solubility:mol/L)' : 'correlation_coef'}, inplace=True)\n",
        "corr_sorted"
      ],
      "metadata": {
        "id": "mds4WzRZpDYO"
      },
      "execution_count": null,
      "outputs": []
    },
    {
      "cell_type": "code",
      "source": [
        "fig = plt.figure(1, figsize=(6,6))\n",
        "ax1 = fig.add_subplot(111)\n",
        "plt.bar(x = corr_sorted.index, height = corr_sorted['correlation_coef'], color = 'green')\n",
        "ax1.set_xlabel('Top Correlated Descriptors', weight='bold')\n",
        "ax1.set_ylabel('Correlation Coefficient', weight='bold')"
      ],
      "metadata": {
        "id": "jeSUEu16qUhC"
      },
      "execution_count": null,
      "outputs": []
    },
    {
      "cell_type": "code",
      "source": [
        "fig = plt.figure(4, figsize=(10,10))\n",
        "ax = fig.add_subplot(221)\n",
        "plt.scatter(x = df_final['measured log(solubility:mol/L)'], y = df_final['FilterItLogS'], color = 'green')\n",
        "ax.set_xlabel('Log Solubilities', weight='bold')\n",
        "ax.set_ylabel('FilterItLogS', weight='bold')\n",
        "\n",
        "ax = fig.add_subplot(222)\n",
        "plt.scatter(x = df_final['measured log(solubility:mol/L)'], y = df_final['PEOE_VSA6'], color = 'green')\n",
        "ax.set_xlabel('Log Solubilities', weight='bold')\n",
        "ax.set_ylabel('PEOE_VSA6', weight='bold')\n",
        "\n",
        "ax = fig.add_subplot(223)\n",
        "plt.scatter(x = df_final['measured log(solubility:mol/L)'], y = df_final['RNCG'], color = 'green')\n",
        "ax.set_xlabel('Log Solubilities', weight='bold')\n",
        "ax.set_ylabel('RNCG', weight='bold')\n",
        "\n",
        "ax = fig.add_subplot(224)\n",
        "plt.scatter(x = df_final['measured log(solubility:mol/L)'], y = df_final['ABC'], color = 'green')\n",
        "ax.set_xlabel('Log Solubilities', weight='bold')\n",
        "ax.set_ylabel('ABC', weight='bold')\n",
        "plt.tight_layout()"
      ],
      "metadata": {
        "id": "_-v3KtnA1t6t"
      },
      "execution_count": null,
      "outputs": []
    },
    {
      "cell_type": "code",
      "source": [
        "df_final = pd.read_csv('delaney_mordred_truncated.csv')"
      ],
      "metadata": {
        "id": "hSZPJD_tMWMU"
      },
      "execution_count": null,
      "outputs": []
    },
    {
      "cell_type": "markdown",
      "source": [
        "## **Building Machine Learning Model**"
      ],
      "metadata": {
        "id": "2UAwTOqCapqR"
      }
    },
    {
      "cell_type": "code",
      "source": [
        "from sklearn.preprocessing import StandardScaler\n",
        "from sklearn.model_selection import train_test_split, cross_val_score\n",
        "import statsmodels.api as sm\n",
        "from sklearn.linear_model import LinearRegression\n",
        "from sklearn.metrics import r2_score, mean_absolute_error\n",
        "from sklearn.ensemble import RandomForestRegressor"
      ],
      "metadata": {
        "id": "20R27GyTa578"
      },
      "execution_count": null,
      "outputs": []
    },
    {
      "cell_type": "code",
      "source": [
        "df_final = pd.read_csv('delaney_mordred_truncated.csv')"
      ],
      "metadata": {
        "id": "p-KVfV0iicii"
      },
      "execution_count": null,
      "outputs": []
    },
    {
      "cell_type": "code",
      "source": [
        "df_final.head()"
      ],
      "metadata": {
        "id": "umvXWqJOavhJ"
      },
      "execution_count": null,
      "outputs": []
    },
    {
      "cell_type": "code",
      "source": [
        "df_final.shape"
      ],
      "metadata": {
        "id": "MNFcKDSYIbsX"
      },
      "execution_count": null,
      "outputs": []
    },
    {
      "cell_type": "code",
      "source": [
        "y = df_final['measured log(solubility:mol/L)']"
      ],
      "metadata": {
        "id": "dOg-0DfnqIpZ"
      },
      "execution_count": null,
      "outputs": []
    },
    {
      "cell_type": "code",
      "source": [
        "scaled_DF = pd.DataFrame(StandardScaler().fit_transform(df_final.iloc[:,3:]), columns=([df_final.iloc[:,3:]]))\n"
      ],
      "metadata": {
        "id": "_2lFUURUJJ0n"
      },
      "execution_count": null,
      "outputs": []
    },
    {
      "cell_type": "code",
      "source": [
        "scaled_DF"
      ],
      "metadata": {
        "id": "hx53SgrtOmP4"
      },
      "execution_count": null,
      "outputs": []
    },
    {
      "cell_type": "code",
      "source": [
        "X_train, X_test, y_train, y_test = train_test_split(scaled_DF, y, test_size=0.20, random_state=45)"
      ],
      "metadata": {
        "id": "1cazQVyBby-z"
      },
      "execution_count": null,
      "outputs": []
    },
    {
      "cell_type": "code",
      "source": [
        "X_test.shape"
      ],
      "metadata": {
        "id": "AeQRntYYKxyo"
      },
      "execution_count": null,
      "outputs": []
    },
    {
      "cell_type": "code",
      "source": [
        "# multiple linear regression model using statsmodels\n",
        "x = sm.add_constant(X_train)\n",
        "results = sm.OLS(y_train, x).fit()\n",
        "print(results.summary())"
      ],
      "metadata": {
        "id": "WRRdbjzKhS-V"
      },
      "execution_count": null,
      "outputs": []
    },
    {
      "cell_type": "code",
      "source": [
        "# multiple linear regression model using scikitlearn\n",
        "lr = LinearRegression()\n",
        "lr.fit(X_train, y_train)"
      ],
      "metadata": {
        "id": "cay9enATcjEx"
      },
      "execution_count": null,
      "outputs": []
    },
    {
      "cell_type": "code",
      "source": [
        "print(f'The r2 score for train set is : {lr.score(X_train, y_train)}')\n",
        "print(f'The r2 score for test set is : {lr.score(X_test, y_test)}')"
      ],
      "metadata": {
        "id": "AP4bSmethiyG"
      },
      "execution_count": null,
      "outputs": []
    },
    {
      "cell_type": "code",
      "source": [
        "y_hat_train = lr.predict(X_train)\n",
        "y_hat_test = lr.predict(X_test)"
      ],
      "metadata": {
        "id": "bQpBnuXUc3Py"
      },
      "execution_count": null,
      "outputs": []
    },
    {
      "cell_type": "code",
      "source": [
        "r2_score(y_train, y_hat_train)"
      ],
      "metadata": {
        "id": "2jLT1PgsOJar"
      },
      "execution_count": null,
      "outputs": []
    },
    {
      "cell_type": "code",
      "source": [
        "r2_score(y_test, y_hat_test)"
      ],
      "metadata": {
        "id": "TaXe65zlOSQD"
      },
      "execution_count": null,
      "outputs": []
    },
    {
      "cell_type": "code",
      "source": [
        "y_hat_train.shape"
      ],
      "metadata": {
        "id": "QDBoWnhnN5or"
      },
      "execution_count": null,
      "outputs": []
    },
    {
      "cell_type": "code",
      "source": [
        "rf = RandomForestRegressor()\n",
        "rf.fit(X_train, y_train)"
      ],
      "metadata": {
        "id": "sRe3sG43gz1q"
      },
      "execution_count": null,
      "outputs": []
    },
    {
      "cell_type": "code",
      "source": [
        "print(f'The r2 score for train set is : {rf.score(X_train, y_train)}')\n",
        "print(f'The r2 score for test set is : {rf.score(X_test, y_test)}')"
      ],
      "metadata": {
        "id": "fUQqpHSGyL_m"
      },
      "execution_count": null,
      "outputs": []
    },
    {
      "cell_type": "markdown",
      "source": [
        "## **Cross-Validation**"
      ],
      "metadata": {
        "id": "yjSOUQqppRcQ"
      }
    },
    {
      "cell_type": "code",
      "source": [
        "val = cross_val_score(rf, X_train, y_train,  scoring='r2', cv=5)"
      ],
      "metadata": {
        "id": "kPPG61kGpVWw"
      },
      "execution_count": null,
      "outputs": []
    },
    {
      "cell_type": "code",
      "source": [
        "val.mean()"
      ],
      "metadata": {
        "id": "Uq7R2gJrQXFa"
      },
      "execution_count": null,
      "outputs": []
    },
    {
      "cell_type": "markdown",
      "source": [
        "## **Visualizing the Results**"
      ],
      "metadata": {
        "id": "j6h-ayEchrQE"
      }
    },
    {
      "cell_type": "code",
      "source": [
        "plt.scatter(y_test, rf.predict(X_test), label='Test')\n",
        "sns.regplot(x = y_train, y = rf.predict(X_train), color = 'maroon',scatter_kws={'alpha':0.3}, label='Train' )\n",
        "plt.xlabel('Measured Solubilities')\n",
        "plt.ylabel('Predicted Solubilites')\n",
        "plt.legend();"
      ],
      "metadata": {
        "id": "8qZMfcRnliyU"
      },
      "execution_count": null,
      "outputs": []
    },
    {
      "cell_type": "markdown",
      "source": [
        "## **Screen Models using Lazypredict**"
      ],
      "metadata": {
        "id": "jh2I4HZ6ByC3"
      }
    },
    {
      "cell_type": "code",
      "source": [
        "%%capture\n",
        "!pip install lazypredict"
      ],
      "metadata": {
        "id": "SBr0wkmH-4xo"
      },
      "execution_count": null,
      "outputs": []
    },
    {
      "cell_type": "code",
      "source": [
        "from lazypredict.Supervised import LazyRegressor"
      ],
      "metadata": {
        "id": "doVxtW64_Ahh"
      },
      "execution_count": null,
      "outputs": []
    },
    {
      "cell_type": "code",
      "source": [
        "reg = LazyRegressor(verbose=0, ignore_warnings=False, custom_metric=None)\n",
        "models, predictions = reg.fit(X_train, X_test, y_train, y_test)\n",
        "\n",
        "print(predictions)"
      ],
      "metadata": {
        "id": "AkqfnYIu_MU4"
      },
      "execution_count": null,
      "outputs": []
    },
    {
      "cell_type": "markdown",
      "source": [
        "## **Dimensionality Reduction Techniques**"
      ],
      "metadata": {
        "id": "UZCBqWNO0DyA"
      }
    },
    {
      "cell_type": "markdown",
      "source": [
        "# **Principal Component Analysis**"
      ],
      "metadata": {
        "id": "JCKXSdQi55jc"
      }
    },
    {
      "cell_type": "code",
      "source": [
        "from sklearn.decomposition import PCA"
      ],
      "metadata": {
        "id": "843DpbUPllfk"
      },
      "execution_count": null,
      "outputs": []
    },
    {
      "cell_type": "code",
      "source": [
        "scaled_DF.head()"
      ],
      "metadata": {
        "id": "sIazelwVlm6T"
      },
      "execution_count": null,
      "outputs": []
    },
    {
      "cell_type": "code",
      "source": [
        "scaled_DF.shape\n"
      ],
      "metadata": {
        "id": "y43K_3u6lqna"
      },
      "execution_count": null,
      "outputs": []
    },
    {
      "cell_type": "code",
      "source": [
        "pca = PCA(n_components=8)\n",
        "pc = pca.fit_transform(scaled_DF)\n",
        "pc_df = pd.DataFrame(data = pc)"
      ],
      "metadata": {
        "id": "RMn-T4jMAL5U"
      },
      "execution_count": null,
      "outputs": []
    },
    {
      "cell_type": "code",
      "source": [
        "pc_df.head()"
      ],
      "metadata": {
        "id": "M6C9tNqElyHx"
      },
      "execution_count": null,
      "outputs": []
    },
    {
      "cell_type": "code",
      "source": [
        "pca.explained_variance_ratio_"
      ],
      "metadata": {
        "id": "0hbjO4sOl3kq"
      },
      "execution_count": null,
      "outputs": []
    },
    {
      "cell_type": "code",
      "source": [
        "X_train, X_test, y_train, y_test = train_test_split(pc_df, y, test_size=0.20, random_state=45)"
      ],
      "metadata": {
        "id": "7OESnq3kmToq"
      },
      "execution_count": null,
      "outputs": []
    },
    {
      "cell_type": "code",
      "source": [
        "x = sm.add_constant(X_train)\n",
        "results = sm.OLS(y_train, x).fit()\n",
        "print(results.summary())"
      ],
      "metadata": {
        "id": "uN64KePpmpNw"
      },
      "execution_count": null,
      "outputs": []
    },
    {
      "cell_type": "code",
      "source": [
        "lr = LinearRegression()\n",
        "lr.fit(X_train, y_train)\n",
        "print(f'The r2 score for train set is : {lr.score(X_train, y_train)}')\n",
        "print(f'The r2 score for test set is : {lr.score(X_test, y_test)}')"
      ],
      "metadata": {
        "id": "oNSQiXKqBHvM"
      },
      "execution_count": null,
      "outputs": []
    },
    {
      "cell_type": "code",
      "source": [
        "rf = RandomForestRegressor()\n",
        "rf.fit(X_train, y_train)\n",
        "print(f'The r2 score for train set is : {rf.score(X_train, y_train)}')\n",
        "print(f'The r2 score for test set is : {rf.score(X_test, y_test)}')"
      ],
      "metadata": {
        "id": "GCC7TDSQoSNh"
      },
      "execution_count": null,
      "outputs": []
    },
    {
      "cell_type": "markdown",
      "source": [
        "# **t-SNE**"
      ],
      "metadata": {
        "id": "lyJnO6MS0xI3"
      }
    },
    {
      "cell_type": "code",
      "source": [
        "from sklearn.manifold import TSNE"
      ],
      "metadata": {
        "id": "ik5uZHnq36vo"
      },
      "execution_count": null,
      "outputs": []
    },
    {
      "cell_type": "code",
      "source": [
        "tsne = TSNE(n_components=2)\n",
        "ts = tsne.fit_transform(scaled_DF)\n",
        "tsne_df = pd.DataFrame(data = ts)\n"
      ],
      "metadata": {
        "id": "wHtdDiPTowj3"
      },
      "execution_count": null,
      "outputs": []
    },
    {
      "cell_type": "code",
      "source": [
        "tsne_df.head()"
      ],
      "metadata": {
        "id": "_vOFhbfk5JMX"
      },
      "execution_count": null,
      "outputs": []
    },
    {
      "cell_type": "markdown",
      "source": [
        "**Visuaization in Lower Dimensions**"
      ],
      "metadata": {
        "id": "z642nkV_Cdlr"
      }
    },
    {
      "cell_type": "code",
      "source": [
        "y.median()"
      ],
      "metadata": {
        "id": "8oXsWH-n9qQi"
      },
      "execution_count": null,
      "outputs": []
    },
    {
      "cell_type": "code",
      "source": [
        "sol_cls = [int(boolean) for boolean in list(map(lambda s: s>-2.8, y))]"
      ],
      "metadata": {
        "id": "bSRdZwCXChDL"
      },
      "execution_count": null,
      "outputs": []
    },
    {
      "cell_type": "code",
      "source": [
        "from collections import Counter\n",
        "Counter(sol_cls)"
      ],
      "metadata": {
        "id": "folnbmyoCnYS"
      },
      "execution_count": null,
      "outputs": []
    },
    {
      "cell_type": "code",
      "source": [
        "plt.figure(figsize=(8,6))\n",
        "scatter = plt.scatter(tsne_df.iloc[:,0],tsne_df.iloc[:,1],\n",
        "                      c = sol_cls,cmap='plasma'\n",
        "                      )\n",
        "plt.legend(handles=scatter.legend_elements()[0], labels=['More Soluble', 'Less Soluble'], loc = 1)\n",
        "plt.xlabel('tsne Component 1')\n",
        "plt.ylabel('tsne Component 2')"
      ],
      "metadata": {
        "id": "oeQzqQWIH3aN"
      },
      "execution_count": null,
      "outputs": []
    },
    {
      "cell_type": "code",
      "source": [],
      "metadata": {
        "id": "SLtGiAR29jKt"
      },
      "execution_count": null,
      "outputs": []
    }
  ],
  "metadata": {
    "colab": {
      "provenance": []
    },
    "kernelspec": {
      "display_name": "Python 3 (ipykernel)",
      "language": "python",
      "name": "python3"
    },
    "language_info": {
      "codemirror_mode": {
        "name": "ipython",
        "version": 3
      },
      "file_extension": ".py",
      "mimetype": "text/x-python",
      "name": "python",
      "nbconvert_exporter": "python",
      "pygments_lexer": "ipython3",
      "version": "3.9.12"
    },
    "gpuClass": "standard"
  },
  "nbformat": 4,
  "nbformat_minor": 0
}